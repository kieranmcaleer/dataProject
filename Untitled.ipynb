{
 "cells": [
  {
   "cell_type": "code",
   "execution_count": 32,
   "id": "stable-following",
   "metadata": {},
   "outputs": [],
   "source": [
    "    \n",
    "    #getting all of the other stocks\n",
    "    import requests\n",
    "    import pandas as pd\n",
    "    from bs4 import BeautifulSoup\n",
    "    import urllib3"
   ]
  },
  {
   "cell_type": "code",
   "execution_count": 33,
   "id": "correct-yugoslavia",
   "metadata": {},
   "outputs": [
    {
     "name": "stdout",
     "output_type": "stream",
     "text": [
      "https://datahub.io/core/nyse-other-listings/r/nyse-listed.csv\n"
     ]
    }
   ],
   "source": [
    "    \n",
    "    #getting all of the nyse stocks\n",
    "    import requests\n",
    "    print(\"https://datahub.io/core/nyse-other-listings/r/nyse-listed.csv\")\n",
    "    req = requests.get(\"https://datahub.io/core/nyse-other-listings/r/nyse-listed.csv\")\n",
    "    url_content = req.content\n",
    "    csv_file = open('nyse.csv', 'wb')\n",
    "    csv_file.write(url_content)\n",
    "    csv_file.close()"
   ]
  },
  {
   "cell_type": "code",
   "execution_count": 34,
   "id": "cheap-welding",
   "metadata": {},
   "outputs": [
    {
     "name": "stdout",
     "output_type": "stream",
     "text": [
      "  ACT Symbol                                       Company Name\n",
      "0          A            Agilent Technologies, Inc. Common Stock\n",
      "1         AA                            Alcoa Inc. Common Stock\n",
      "2       AA$B  Alcoa Inc. Depository Shares Representing 1/10...\n",
      "3        AAC                    AAC Holdings, Inc. Common Stock\n",
      "4        AAN                         Aaron's, Inc. Common Stock\n"
     ]
    }
   ],
   "source": [
    "# creating a data frame\n",
    "nyse_df = pd.read_csv(\"nyse.csv\")\n",
    "print(nyse_df.head())"
   ]
  },
  {
   "cell_type": "code",
   "execution_count": 35,
   "id": "better-shirt",
   "metadata": {},
   "outputs": [
    {
     "name": "stdout",
     "output_type": "stream",
     "text": [
      "What stock would you like to search?alphabet\n"
     ]
    }
   ],
   "source": [
    "def getHTMLdocument(url):\n",
    "      \n",
    "    # request for HTML document of given url\n",
    "    response = requests.get(url)\n",
    "      \n",
    "    # response will be provided in JSON format\n",
    "    return response.text\n",
    "userSearch = input(\"What stock would you like to search?\")"
   ]
  },
  {
   "cell_type": "code",
   "execution_count": 38,
   "id": "demanding-worse",
   "metadata": {},
   "outputs": [],
   "source": [
    "\n",
    "\n",
    "URL = \"https://news.google.com/search?q=\" + userSearch +  \" when%3A1d&hl\"\n",
    "html_document = getHTMLdocument(URL)\n",
    "soup = BeautifulSoup(html_document, 'html.parser')"
   ]
  },
  {
   "cell_type": "code",
   "execution_count": 39,
   "id": "serious-shell",
   "metadata": {},
   "outputs": [
    {
     "name": "stdout",
     "output_type": "stream",
     "text": [
      "3 Best Stock-Split Candidates on the Planet After Alphabet and Amazon\n",
      "Alphabet Inc. (NASDAQ:GOOGL) Given Consensus Recommendation of “Buy” by Analysts\n",
      "Alphabet Inc. (NASDAQ:GOOGL) Director Brin Sergey Sells 2710 Shares\n",
      "This is the Snapchat filter that teaches sign language\n",
      "Nasdaq Bear Market: 3 Unstoppable Stocks You'll Regret Not Buying on the Dip\n",
      "Are You Struggling With Wordle 301 For April 16? Check Here For Hints And Answer | Mint\n",
      "Thermoelectric Generator (TEG) Modules Market Strategic Outlook by 2028 |Custom Thermoelectric Inc., Alphabet Energy, Inc., Ferrotec (USA) Corporation, European Thermodynamics, etc – Political Beef\n",
      "Burned by Tech Stocks? Consider These 3 ETFs Instead\n",
      "Library programs are announced | News, Sports, Jobs\n",
      "Cathie Wood Sees Tesla Being Worth Nearly $5 Trillion in 2026\n",
      "Visit Googleplex: A Comprehensive Tour Of Google's Headquarters\n",
      "Analysis | The new dean of the House hopes to make the place 'a bit more civil'\n",
      "Calculating Pi On The 4004 CPU, Intel's First Microprocessor\n",
      "31 Toddler Products That'll Make You Think, 'Wow, I Could Really Use This In My Life'\n",
      "Benzinga Bulls And Bears Of The Week: Disney, Tesla, Twitter, Apple, Alibaba And This Crypto Expected to\n",
      "Constance Brown Howard | Obituaries | eagletimes.com\n",
      "The Day - Fact or fiction: New London style pizza - News from southeastern Connecticut\n",
      "Google's Latest App Can Help You Migrate From iOS To Android\n",
      "Tyson Fury, Mike Tyson and Lennox Lewis were the best, but there have been poor heavyweight champions from\n",
      "Opinion: “Wheel of Fortune” Should Change Its Rules About Buying Vowels | Joel Eisenberg\n",
      "Enterprise Wearable Market: Comprehensive study explores Huge Growth in Future – Political Beef\n",
      "Forget Twitter: Elon Musk has his hands full keeping Tesla on the road\n",
      "There Are Not Many Ideas When It Comes To Gifting A Boyfriend: We Have Got a Whole List Planned Out For Next Birthday\n",
      "Zenith Bookstore to host Duluth author meet-and-greets, giveaways April 30\n",
      "Feds say ‘Cameron Street’ gang in Massachusetts posted videos celebrating killings in indictment of 19 members\n",
      "Could space tourism and flying taxis make YOU rich in 2042?\n",
      "Man cut arm, smeared blood on Florida Holocaust monument, police say\n",
      "15 countries you didn't know you could cruise to on Royal Caribbean\n",
      "Odisha to curtail summer vacation to make up for learning loss during COVID-19 pandemic\n",
      "How to Generate Income in Retirement Without Going Back to Work\n",
      "The art of the startup post-mortem\n",
      "Can Shiba Inu Reach $0.01 by 2023?\n",
      "AT YOUR SERVICE FOR EASTER SUNDAY 2022 - At Your Service\n",
      "Personal View: Ohio is winner in race to create 'Voltage Valleys'\n",
      "Arunachal: AAK committed to preserve, promote Adi dialogue\n",
      "Mark Cuban says 'every major tech company' is calling their lawyers about buying Twitter after Elon Musk's hostile bid\n",
      "How to add stylish colorful signature text in Free Fire ID (April 2022)\n",
      "Liabilities Translation In Urdu? – ictsd.org\n",
      "POLITICO Playbook: Palin returns with a thud in Alaska- POLITICO\n",
      "Pfizer Stock, Raytheon Lead 5 Stocks Near Buy Points\n",
      "Berj Najarian runs 2022 Boston Marathon, but that's nothing compared to his Armenian ancestors\n",
      "Musk, Twitter, money, free speech and global domination\n",
      "Best of the east: A NSW XI who played 16 Tests or fewer\n",
      "Now Buffett's splashing the cash, should you be too?\n",
      "Meta Vs. Roblox: The Battle Of Metaverse Commission Rates - 47.5% Vs. 72%\n",
      "God's word in the mother tongue | News, Sports, Jobs\n",
      "Imam Reza holy shrine holds 'Quran: Meaning of Life' exhibition\n",
      "Gen Z glossary: What do HMU, vex, and wigging mean? Internet slang explained\n",
      "After Its Latest Run, UnitedHealth Is Not Attractive At This Price\n",
      "NJ COVID latest: Saturday, April 16, 2022\n",
      "WATCH Cute Kid 'Review' His Dad's Skoda Kushaq Style\n",
      "NY COVID latest: Saturday, April 16, 2022\n",
      "B2b Sales And Marketing Companies? – ictsd.org\n",
      "B2b Market Share India? – ictsd.org\n",
      "Global Covid caseload tops 503.5 mn\n",
      "Lawyers stage protest over theft at Andhra court\n",
      "MVA's Congress candidate wins Kolhapur North Assembly bypoll\n",
      "WHO warns of steep rise in hepatitis cases among UK children\n",
      "COVID fourth wave grips India?\n",
      "Latest business liquidations in Gold Coast\n"
     ]
    }
   ],
   "source": [
    "titles = soup.find_all(\"a\", class_=\"DY5T1d RZIKme\")\n",
    "\n",
    "for link in titles:\n",
    "    print(link.getText())"
   ]
  },
  {
   "cell_type": "code",
   "execution_count": null,
   "id": "effective-trinidad",
   "metadata": {},
   "outputs": [],
   "source": []
  }
 ],
 "metadata": {
  "kernelspec": {
   "display_name": "Python 3",
   "language": "python",
   "name": "python3"
  },
  "language_info": {
   "codemirror_mode": {
    "name": "ipython",
    "version": 3
   },
   "file_extension": ".py",
   "mimetype": "text/x-python",
   "name": "python",
   "nbconvert_exporter": "python",
   "pygments_lexer": "ipython3",
   "version": "3.6.13"
  }
 },
 "nbformat": 4,
 "nbformat_minor": 5
}
