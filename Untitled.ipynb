{
 "cells": [
  {
   "cell_type": "code",
   "execution_count": 3,
   "id": "829f2fd6",
   "metadata": {},
   "outputs": [],
   "source": [
    "    \n",
    "    #getting all of the other stocks\n",
    "    import requests\n",
    "    import pandas as pd\n",
    "    from bs4 import BeautifulSoup\n",
    "    import urllib3"
   ]
  },
  {
   "cell_type": "code",
   "execution_count": 4,
   "id": "65dbfff3",
   "metadata": {},
   "outputs": [
    {
     "name": "stdout",
     "output_type": "stream",
     "text": [
      "https://datahub.io/core/nyse-other-listings/r/nyse-listed.csv\n"
     ]
    }
   ],
   "source": [
    "    \n",
    "    #getting all of the nyse stocks\n",
    "    import requests\n",
    "    print(\"https://datahub.io/core/nyse-other-listings/r/nyse-listed.csv\")\n",
    "    req = requests.get(\"https://datahub.io/core/nyse-other-listings/r/nyse-listed.csv\")\n",
    "    url_content = req.content\n",
    "    csv_file = open('nyse.csv', 'wb')\n",
    "    csv_file.write(url_content)\n",
    "    csv_file.close()"
   ]
  },
  {
   "cell_type": "code",
   "execution_count": 3,
   "id": "391af1b5",
   "metadata": {},
   "outputs": [
    {
     "name": "stdout",
     "output_type": "stream",
     "text": [
      "  ACT Symbol                                       Company Name\n",
      "0          A            Agilent Technologies, Inc. Common Stock\n",
      "1         AA                            Alcoa Inc. Common Stock\n",
      "2       AA$B  Alcoa Inc. Depository Shares Representing 1/10...\n",
      "3        AAC                    AAC Holdings, Inc. Common Stock\n",
      "4        AAN                         Aaron's, Inc. Common Stock\n"
     ]
    }
   ],
   "source": [
    "# creating a data frame\n",
    "nyse_df = pd.read_csv(\"nyse.csv\")\n",
    "print(nyse_df.head())"
   ]
  },
  {
   "cell_type": "code",
   "execution_count": 5,
   "id": "3d84b2bc",
   "metadata": {},
   "outputs": [],
   "source": [
    "def getHTMLdocument(url):\n",
    "      \n",
    "    # request for HTML document of given url\n",
    "    response = requests.get(url)\n",
    "      \n",
    "    # response will be provided in JSON format\n",
    "    return response.text\n",
    "# userSearch = input(\"What stock would you like to search?\")"
   ]
  },
  {
   "cell_type": "code",
   "execution_count": 6,
   "id": "4081c2b9",
   "metadata": {},
   "outputs": [],
   "source": [
    "\n",
    "\n",
    "URL = \"https://news.google.com/search?q=\" + userSearch +  \" when%3A1d&hl\"\n",
    "html_document = getHTMLdocument(URL)\n",
    "soup = BeautifulSoup(html_document, 'html.parser')"
   ]
  },
  {
   "cell_type": "code",
   "execution_count": 7,
   "id": "97bca971",
   "metadata": {},
   "outputs": [
    {
     "name": "stdout",
     "output_type": "stream",
     "text": [
      "How to Move Columns in Excel (4 Ways)\n",
      "How to create a floating bar chart in Excel\n",
      "Michigan RB Hassan Haskins knows he can excel at the next level\n",
      "Dallas ISD music ensembles excel in region-level evaluations\n",
      "Save 30% off Microsoft Office - get Word, Excel and Powerpoint for less\n",
      "Tech-Death Tuesday: BEYOND THE STRUCTURE Excel At Absurdity That Defies Conventional Scrutiny\n",
      "Excel Academy presents a classic car show both in true form and carboard\n",
      "Bandy, Rog excel in weekend series win over Evansville\n",
      "Excel With Specialised Grants\n",
      "PNG Athletes Excel\n",
      "Veterinary Speculums Market Size, Outlook And Forecast | Erbrich Instrumente, Invotech Excel, Italeco, Jorgensen Laboratories, Jupiter Veterinary Products, Kruuse, Veterinary Dental Products, Erbrich Instrumente – themobility.club\n",
      "Employees with autism excelling at innovative Long Island company Spectrum Designs\n",
      "2023: With my track record, I’ll excel as Nigeria’s president – Gov Emmanuel\n",
      "Emotet 'Test' Campaign Leverages OneDrive, XLL Files\n",
      "A Young Adult Overcomes Literacy Hurdles at Local Charter School\n",
      "President's Office, Ministry of Home Affairs excel in athletics\n",
      "Stanley Black (SWK) to Post Q1 Earnings: Is a Beat in Store?\n",
      "Charlotte bilingual school: NC should expand quality pre-K\n",
      "Electro Over Band Magnetic Separators Market Size, Outlook And Forecast | Wamag, Excel Magnetics, Goudsmit Magnetics, Jupiter Magnetics, Star Trace, Mahajan Beltings Industrial, Electro Magnetic Industries, Electro Flux Equipments, Bhupindra Machines\n",
      "Breece Hall 2022 NFL Draft profile: Full scouting report, Fantasy Football fits, 40-yard dash, Dynasty, more\n",
      "How Cast-Iron Skillets Became So Popular In The US\n",
      "Cat enjoys flying with Hawks\n",
      "Microsoft Details Partner Program Changes For NCE, Azure And Windows\n",
      "Account Switching Coming to Microsoft 365 Web Apps\n",
      "Community Events Calendar\n",
      "Building Toward Financial Success in College\n",
      "Backend Database Software Market Size, Scope And Outlook | Twilio Inc., Sinch, MetricFire, CData Sync, CData Excel Add-Ins, ClusterControl, Amazon Web Services (AWS), IBM, Help Desk Migration, Hull: Customer Data Platform. – Ripon College Days\n",
      "Form 8-K KeyStar Corp. For: Apr 20\n",
      "Regulated Medical Waste Service Market Size, Outlook And Forecast | Stericycle, SRCL, American Waste Management Services, Inc. (AWMS), UMI, Excel Medical Waste, Veolia Environnement, Daniels Sharpsmart, Fortum, Bechtel – Ripon College Days\n",
      "Is an MBA Worth It? Not If They're Just Teaching You to Use Excel\n",
      "Sulphur to welcome LHSAA state softball tournament this weekend - American Press | American Press\n",
      "Blackhawk Christian / Lakewood Park / Smith Academy @ Hamilton 2022 - Complete Results (Raw)\n",
      "MSU recognizes outstanding graduate students, faculty mentors\n",
      "Tubular Stranding and Closing Machine Market Size, Outlook And Forecast | SKET Verseilmaschinenbau, Sarvasv Industrial, MFL, Kay Kay Industrial, Nova Measuring Instruments, Miyazaki Machinery Systems, Excel Craft Machineries, Jinggong Construction\n",
      "Trellix Finds Escalation of Cyberattacks Targeting Critical Infrastructure as Geopolitical Tensions Rise\n",
      "Flashes Place Conference Best 10 Wrestlers on All-Academic Team - Kent State Golden Flashes\n",
      "Threadolets Market Size, Outlook And Forecast | STOP-CHOC, 2LBIN, GEL MEC, Nexus, Excel Metal & Engg Industries, Trychem Metal And Alloys, Samir Steel Syndicate, Regal Sales Corporation, Panache Industries, BARRY CONTROLS – themobility.cl\n",
      "Honor a Safety Leader With a Nomination for a Safety Standout Award - EHS Daily Advisor\n",
      "Thread Mill Drills Market Size, Outlook And Forecast | Advent Tool and Manufacturing, Guhring, Garr Tool, Mitsubishi Materials, Vhf Camfacture, Rock River Tool, Global Excel Tools Manufacturing, KOMET Group – Ripon College Days\n",
      "Sports Agency Service Market Size, Outlook And Forecast | Creative Artists Agency, Wasserman, Excel Sports Management, Octagon, Boras Corp, Gestifute International, Independent Sports & Entertainment, Stellar Group, Newport Sports Management,\n",
      "Global Diethyl Thiophosphoryl Chloride Market Growth, Trends and Forecast 2022 to 2028 – Cheminova, Excel Industries, Huludao Lingyun Group, Shandong Sino-Agri United Biotechnology – Ripon College Days\n",
      "Quest Resource Holding Corporation Announces Retirement of Chief Financial Officer Laurie Latham\n",
      "JEE Main 2022: Phase 1 Registration Ends today; Detailed Plan With Study Material to Excel Preparation for\n",
      "Aluminum Carbide Tool Market Size, Outlook And Forecast | Mitsubishi Materials Corporation, Rock River Tool, Advent Tool & Manufacturing, PROMAX Tools, Garr Tool, Tunco Manufacturing, Global Excel Tools Manufacturing, Ingersoll Cutting Tool Com\n",
      "Global Acetyl Chloride Market 2022 Valuable Growth Prospects Analysis by 2028 | CABB, Changzhou Zhongyao, Excel Industries Ltd, Shandong Taihe – Ripon College Days\n",
      "Hand Dryer Market Size, Scope And Outlook | American Dryer, Dyson Technology, Electrostar, Euronics Industries, Jaguar Group, Excel Dryer, Panasonic Corporation, Mitsubishi Electric Corporation, Saniflow Hand Dryer Corporation, Bobrick Washroom Equi\n",
      "Oregon State hosts State of Black Affairs Summit in Portland\n",
      "Patriot League Announces Seedings for 2022 Men's Tennis Championship (4.26.22)\n",
      "Rebecca Rutledge seeks reelection to BCISD Place 3 - The Record Newspapers\n",
      "insightsoftware Expands Jet Reports Integration with Microsoft 365\n",
      "Why nationally televised spring game could open 'tremendous doors' for Jackson State under Deion Sanders\n",
      "Developer breaks ground on Cotino, Disney's Storyliving master-planned community in Rancho Mirage\n",
      "Ankita Lokhande On Her Impressive Showdown In Smart Jodi!\n",
      "NFL Draft: Eagles focused on landing WR and edge rusher in 1st round\n",
      "Audubon Zoo and Audubon Aquarium of the Americas Nominated for USA TODAY 10Best Readers' Choice Awards\n",
      "A Human-Centric Path to AGI | Greylock\n",
      "Where can you learn MS Office for free?\n",
      "Trinity Christian defeats Northgate in thriller\n",
      "Enhance your skills and keep up with the latest techniques with Tavcom Training at IFSEC 2022\n",
      "Jaipuria Institute of Management, Ghaziabad distribute tablets to the MBA students supporting the UP Free Tablet Yojana 2021\n",
      "Blackpoint Cyber Welcomes J. Chris Wilkerson, VP of Blackpoint RISK & Head of Insurance\n",
      "Get a job now! Follow Job Alerts by AlimoshoToday.com\n",
      "'Trust but verify' may boost employee productivity monitoring\n",
      "Patriot League Announces Tennis Players of the Week (4.26.22)\n",
      "Chinese Wisdom in Xi's words: Proficient in knowledge, exemplary in morality\n",
      "Recruitment boss says Millennials have a 'loathing of conflict' after accountant loses tribunal\n",
      "Warren Lichtenstein, Executive Chairman of Aerojet Rocketdyne (AJRD) , Issues Letter to Fellow Shareholders\n",
      "7 Natrona County Teachers Honored As 2022 Ellbogen Meritorious Educators\n",
      "Rethinking Marketing: 2022 Finds Pandemic Increased Workload, Reduced Departmental Resources\n",
      "Patriot League Baseball Players of the Week Announced (4.26.22)\n",
      "Trust Is Key to Navigating Infection Prevention's Relationship With Sterile Processing\n",
      "Finalists for 2022 Kavanagh Eagle Scholar-Athlete Award Announced\n"
     ]
    }
   ],
   "source": [
    "titles = soup.find_all(\"a\", class_=\"DY5T1d RZIKme\")\n",
    "\n",
    "for link in titles:\n",
    "    print(link.getText())"
   ]
  },
  {
   "cell_type": "code",
   "execution_count": 8,
   "id": "9308a522",
   "metadata": {},
   "outputs": [
    {
     "name": "stdout",
     "output_type": "stream",
     "text": [
      "Sentiment(polarity=-0.15000000000000002, subjectivity=0.75)\n"
     ]
    }
   ],
   "source": [
    "from textblob import TextBlob\n",
    "sentence = TextBlob(\"I love you my annoying ass dad\")\n",
    "print(sentence.sentiment)"
   ]
  },
  {
   "cell_type": "code",
   "execution_count": 14,
   "id": "75f63248",
   "metadata": {},
   "outputs": [],
   "source": [
    "#creating a machine learning model\n",
    "nyse_df = pd.read_csv(\"constituents_csv.csv\")\n",
    "stock_list = nyse_df.values.tolist()\n",
    "stocks_with_ticker = [pair[1] + \" \" + '(' + pair[0] + ')'\n",
    "                        for pair in stock_list]\n",
    "all_titles=[]\n",
    "for stock in stock_list:\n",
    "    URL = \"https://news.google.com/search?q=\" + \\\n",
    "        stock[1] + \" when%3A1d&hl\"\n",
    "    html_document = getHTMLdocument(URL)\n",
    "    soup = BeautifulSoup(html_document, 'html.parser')\n",
    "    titles = soup.find_all(\"a\", class_=\"DY5T1d RZIKme\")\n",
    "    link_titles = [link.getText() for link in titles]\n",
    "    all_titles.extend(link_titles)\n",
    "    \n",
    "titles_df = pd.DataFrame (all_titles, columns = ['article_titles'])"
   ]
  },
  {
   "cell_type": "code",
   "execution_count": 18,
   "id": "c46261cd",
   "metadata": {},
   "outputs": [],
   "source": [
    "titles_df[\"sentiment\"]= \"\""
   ]
  },
  {
   "cell_type": "code",
   "execution_count": 27,
   "id": "73402ba2",
   "metadata": {},
   "outputs": [],
   "source": [
    "for index,row in titles_df.iterrows():\n",
    "    row['sentiment'] = TextBlob(row[\"article_titles\"]).sentiment.polarity\n"
   ]
  },
  {
   "cell_type": "code",
   "execution_count": 29,
   "id": "604b13c5",
   "metadata": {},
   "outputs": [
    {
     "data": {
      "text/html": [
       "<div>\n",
       "<style scoped>\n",
       "    .dataframe tbody tr th:only-of-type {\n",
       "        vertical-align: middle;\n",
       "    }\n",
       "\n",
       "    .dataframe tbody tr th {\n",
       "        vertical-align: top;\n",
       "    }\n",
       "\n",
       "    .dataframe thead th {\n",
       "        text-align: right;\n",
       "    }\n",
       "</style>\n",
       "<table border=\"1\" class=\"dataframe\">\n",
       "  <thead>\n",
       "    <tr style=\"text-align: right;\">\n",
       "      <th></th>\n",
       "      <th>article_titles</th>\n",
       "      <th>sentiment</th>\n",
       "    </tr>\n",
       "  </thead>\n",
       "  <tbody>\n",
       "    <tr>\n",
       "      <th>0</th>\n",
       "      <td>3M puts HIS back in play</td>\n",
       "      <td>0</td>\n",
       "    </tr>\n",
       "    <tr>\n",
       "      <th>1</th>\n",
       "      <td>3M's Earnings Were Good Enough. The Stock Is R...</td>\n",
       "      <td>0.35</td>\n",
       "    </tr>\n",
       "    <tr>\n",
       "      <th>2</th>\n",
       "      <td>3M CEO Says Supply-Chain Woes Are Here for 'Fo...</td>\n",
       "      <td>0</td>\n",
       "    </tr>\n",
       "    <tr>\n",
       "      <th>3</th>\n",
       "      <td>3M buys LeanTec, touts combination with Repair...</td>\n",
       "      <td>0</td>\n",
       "    </tr>\n",
       "    <tr>\n",
       "      <th>4</th>\n",
       "      <td>Analysis | GE and 3M Lead Worry Parade on the ...</td>\n",
       "      <td>-0.25</td>\n",
       "    </tr>\n",
       "    <tr>\n",
       "      <th>...</th>\n",
       "      <td>...</td>\n",
       "      <td>...</td>\n",
       "    </tr>\n",
       "    <tr>\n",
       "      <th>495</th>\n",
       "      <td>2023 Nissan Z launch delayed until summer</td>\n",
       "      <td>0</td>\n",
       "    </tr>\n",
       "    <tr>\n",
       "      <th>496</th>\n",
       "      <td>Ruminant Feed Binders Market Past Research, De...</td>\n",
       "      <td>-0.0227273</td>\n",
       "    </tr>\n",
       "    <tr>\n",
       "      <th>497</th>\n",
       "      <td>Cattle Feed Non-Protein Nitrogen Market Report...</td>\n",
       "      <td>0.0454545</td>\n",
       "    </tr>\n",
       "    <tr>\n",
       "      <th>498</th>\n",
       "      <td>Archer-Daniels-Midland Non-GAAP EPS of $1.90 b...</td>\n",
       "      <td>0</td>\n",
       "    </tr>\n",
       "    <tr>\n",
       "      <th>499</th>\n",
       "      <td>Edible Beans Market Size, Outlook And Forecast...</td>\n",
       "      <td>0.08</td>\n",
       "    </tr>\n",
       "  </tbody>\n",
       "</table>\n",
       "<p>500 rows × 2 columns</p>\n",
       "</div>"
      ],
      "text/plain": [
       "                                        article_titles  sentiment\n",
       "0                             3M puts HIS back in play          0\n",
       "1    3M's Earnings Were Good Enough. The Stock Is R...       0.35\n",
       "2    3M CEO Says Supply-Chain Woes Are Here for 'Fo...          0\n",
       "3    3M buys LeanTec, touts combination with Repair...          0\n",
       "4    Analysis | GE and 3M Lead Worry Parade on the ...      -0.25\n",
       "..                                                 ...        ...\n",
       "495          2023 Nissan Z launch delayed until summer          0\n",
       "496  Ruminant Feed Binders Market Past Research, De... -0.0227273\n",
       "497  Cattle Feed Non-Protein Nitrogen Market Report...  0.0454545\n",
       "498  Archer-Daniels-Midland Non-GAAP EPS of $1.90 b...          0\n",
       "499  Edible Beans Market Size, Outlook And Forecast...       0.08\n",
       "\n",
       "[500 rows x 2 columns]"
      ]
     },
     "execution_count": 29,
     "metadata": {},
     "output_type": "execute_result"
    }
   ],
   "source": [
    "titles_df.head(500)"
   ]
  },
  {
   "cell_type": "code",
   "execution_count": null,
   "id": "a262bc0d",
   "metadata": {},
   "outputs": [],
   "source": []
  }
 ],
 "metadata": {
  "kernelspec": {
   "display_name": "Python 3",
   "language": "python",
   "name": "python3"
  },
  "language_info": {
   "codemirror_mode": {
    "name": "ipython",
    "version": 3
   },
   "file_extension": ".py",
   "mimetype": "text/x-python",
   "name": "python",
   "nbconvert_exporter": "python",
   "pygments_lexer": "ipython3",
   "version": "3.8.3"
  }
 },
 "nbformat": 4,
 "nbformat_minor": 5
}
