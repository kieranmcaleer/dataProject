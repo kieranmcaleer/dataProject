{
 "cells": [
  {
   "cell_type": "code",
   "execution_count": 1,
   "metadata": {},
   "outputs": [],
   "source": [
    "    \n",
    "    #getting all of the other stocks\n",
    "    import requests\n",
    "    import pandas as pd\n",
    "    from bs4 import BeautifulSoup\n",
    "    import urllib3"
   ]
  },
  {
   "cell_type": "code",
   "execution_count": 2,
   "metadata": {},
   "outputs": [
    {
     "name": "stdout",
     "output_type": "stream",
     "text": [
      "https://datahub.io/core/nyse-other-listings/r/nyse-listed.csv\n"
     ]
    }
   ],
   "source": [
    "    \n",
    "    #getting all of the nyse stocks\n",
    "    import requests\n",
    "    print(\"https://datahub.io/core/nyse-other-listings/r/nyse-listed.csv\")\n",
    "    req = requests.get(\"https://datahub.io/core/nyse-other-listings/r/nyse-listed.csv\")\n",
    "    url_content = req.content\n",
    "    csv_file = open('nyse.csv', 'wb')\n",
    "    csv_file.write(url_content)\n",
    "    csv_file.close()"
   ]
  },
  {
   "cell_type": "code",
   "execution_count": 3,
   "metadata": {},
   "outputs": [
    {
     "name": "stdout",
     "output_type": "stream",
     "text": [
      "  ACT Symbol                                       Company Name\n",
      "0          A            Agilent Technologies, Inc. Common Stock\n",
      "1         AA                            Alcoa Inc. Common Stock\n",
      "2       AA$B  Alcoa Inc. Depository Shares Representing 1/10...\n",
      "3        AAC                    AAC Holdings, Inc. Common Stock\n",
      "4        AAN                         Aaron's, Inc. Common Stock\n"
     ]
    }
   ],
   "source": [
    "# creating a data frame\n",
    "nyse_df = pd.read_csv(\"nyse.csv\")\n",
    "print(nyse_df.head())"
   ]
  },
  {
   "cell_type": "code",
   "execution_count": 4,
   "metadata": {},
   "outputs": [
    {
     "name": "stdout",
     "output_type": "stream",
     "text": [
      "What stock would you like to search?blackrock\n"
     ]
    }
   ],
   "source": [
    "def getHTMLdocument(url):\n",
    "      \n",
    "    # request for HTML document of given url\n",
    "    response = requests.get(url)\n",
    "      \n",
    "    # response will be provided in JSON format\n",
    "    return response.text\n",
    "userSearch = input(\"What stock would you like to search?\")"
   ]
  },
  {
   "cell_type": "code",
   "execution_count": 5,
   "metadata": {},
   "outputs": [],
   "source": [
    "\n",
    "\n",
    "URL = \"https://news.google.com/search?q=\" + userSearch +  \" when%3A1d&hl\"\n",
    "html_document = getHTMLdocument(URL)\n",
    "soup = BeautifulSoup(html_document, 'html.parser')"
   ]
  },
  {
   "cell_type": "code",
   "execution_count": 6,
   "metadata": {},
   "outputs": [
    {
     "name": "stdout",
     "output_type": "stream",
     "text": [
      "Morgan Stanley Lowers BlackRock (NYSE:BLK) Price Target to $932.00\n",
      "BlackRock MuniHoldings New York Quality Fund, Inc. (NYSE:MHN) Short Interest Up 57.5% in March\n",
      "Zacks Investment Research Downgrades BlackRock TCP Capital (NASDAQ:TCPC) to Sell\n",
      "Blackrock Says Fed Policy Makers Will Raise Borrowing Costs to 2% but Not Much Further - Latest Tweet by\n",
      "BlackRock Raised CEO Larry Fink's Total Pay to $36 Million for 2021, a 21% Increase over ... - Latest Tweet\n",
      "BlackRock, Mubadala To Invest Rs. 4000 Cr. In Tata Power's Renewable Energy Unit\n",
      "Top 10 Fintech News Stories for the Week Ending April 16, 2022\n",
      "Ireland U-18 Schools Team Confirmed For Festival Finale\n",
      "Two of world's most powerful investors betting against Marks & Spencer\n",
      "$USDC: World’s Largest Asset Manager With $9.5 Trillion AUM Interested in USD Coin\n",
      "Staying In The Zone With Factor ETFs\n",
      "Corporates get real on climate change targets\n",
      "Peter Thiel called out Warren Buffett, Jamie Dimon, and Larry Fink as bitcoin's enemies. Here's how 6 crypto experts reacted.\n",
      "The InterGroup Co. (NASDAQ:INTG) Short Interest Update\n",
      "Limbach Holdings, Inc. (NASDAQ:LMB) Short Interest Update\n",
      "EverCommerce Inc. (NASDAQ:EVCM) Sees Significant Growth in Short Interest\n",
      "LexinFintech Holdings Ltd. (NASDAQ:LX) Short Interest Down 35.7% in March\n",
      "This Week in Coins: Market Leaders Dip as Bitcoin Struggles to Maintain 40K\n",
      "Phototherapy Treatment Market Key Vendors, Opportunities, Deep Analysis By Regional & Country Outlook | UC Irvine Health, Buffalo Medical Group, Blackrock Clinic Limited, The Private Phototherapy C… – Political Beef\n",
      "Perma-Fix Environmental Services, Inc. (NASDAQ:PESI) Short Interest Down 44.7% in March\n",
      "Central Valley Community Bancorp (NASDAQ:CVCY) Short Interest Update\n",
      "Nicholas Financial, Inc. (NASDAQ:NICK) Short Interest Down 44.9% in March\n",
      "Ambev S.A. (NYSE:ABEV) Receives $3.46 Average PT from Brokerages\n",
      "Analysts Set Alliance Data Systems Co. (NYSE:ADS) Price Target at $108.27\n",
      "Short Interest in SandRidge Energy, Inc. (NYSE:SD) Rises By 79.6%\n",
      "Veru Inc. (NASDAQ:VERU) Receives $26.33 Consensus Price Target from Brokerages\n",
      "Healthcare Services Group, Inc. (NASDAQ:HCSG) Receives Average Rating of “Hold” from Brokerages\n",
      "Digital Brands Group, Inc. (NASDAQ:DBGI) Short Interest Update\n",
      "TDCX Inc. (NYSE:TDCX) Short Interest Update - Defense World\n",
      "Guild Holdings (NYSE:GHLD) Short Interest Update\n",
      "Schrödinger, Inc. (NASDAQ:SDGR) Given Consensus Recommendation of “Hold” by Brokerages\n",
      "Web 3 Gobsmacked as Meta Announces 47.5% Creator Fees\n",
      "Greene County Bancorp, Inc. (NASDAQ:GCBC) Short Interest Up 64.0% in March\n",
      "Mark Moriarty: The day you start telling yourself you're great is the day you can retire\n",
      "IRSA Propiedades Comerciales S.A. (NASDAQ:IRCP) Short Interest Down 33.3% in March\n",
      "No stroll in 'The Park' for Limerick hurlers as title defence kicks off on Leeside\n",
      "Office Properties Income Trust (NASDAQ:OPI) Rating Lowered to Hold at StockNews.com\n",
      "Shinhan Financial Group (NYSE:SHG) Stock Rating Upgraded by StockNews.com\n",
      "The Marcus Co. (NYSE:MCS) Receives Consensus Recommendation of “Buy” from Brokerages\n",
      "FAT Brands Inc. (NASDAQ:FAT) Short Interest Update\n",
      "Short Interest in Kingsway Financial Services Inc. (NYSE:KFS) Decreases By 33.7%\n",
      "Brokerages Set MRC Global Inc. (NYSE:MRC) PT at $10.92\n",
      "Large tornado tears through several Arkansas counties\n",
      "Partners Bancorp (NASDAQ:PTRS) Short Interest Down 58.1% in March\n",
      "Why the booming business of ESG ratings may be giving investors a false sense of sustainability\n",
      "$31.93 Million in Sales Expected for Kiniksa Pharmaceuticals, Ltd. (NASDAQ:KNSA) This Quarter\n",
      "Short Interest in Arko Corp. (NASDAQ:ARKO) Declines By 33.3%\n",
      "CASI Pharmaceuticals (NASDAQ:CASI) Lifted to Hold at Zacks Investment Research\n",
      "Aethlon Medical, Inc. (NASDAQ:AEMD) Expected to Announce Quarterly Sales of $1.02 Million\n",
      "Harmonic (NASDAQ:HLIT) Downgraded by StockNews.com to Hold\n",
      "$666.30 Million in Sales Expected for Stericycle, Inc. (NASDAQ:SRCL) This Quarter\n",
      "Fathom (NASDAQ:FTHM) Upgraded to “Hold” at Zacks Investment Research\n",
      "Analysts Set Accolade, Inc. (NASDAQ:ACCD) Price Target at $37.92\n",
      "Janus International Group, Inc. (NYSE:JBI) Receives $15.00 Consensus Target Price from Analysts\n",
      "Zedge (NYSEAMERICAN:ZDGE) Receives New Coverage from Analysts at Maxim Group\n",
      "Electric Last Mile Solutions (NASDAQ:ELMS) Cut to “Sell” at Zacks Investment Research\n",
      "LG Display Co., Ltd. (NYSE:LPL) Given Average Rating of “Hold” by Analysts\n",
      "George Osborne advising US billionaire Todd Boehly on Chelsea bid\n",
      "Mizuho Financial Group (NYSE:MFG) Stock Rating Lowered by Zacks Investment Research\n",
      "Vertex, Inc. (NASDAQ:VERX) Given Average Rating of “Hold” by Analysts\n",
      "Fanhua Inc. (NASDAQ:FANH) Sees Large Decrease in Short Interest\n",
      "Microvast (NASDAQ:MVST) Upgraded by Zacks Investment Research to “Hold”\n",
      "R1 RCM Inc. (NASDAQ:RCM) Given Average Rating of “Buy” by Brokerages\n",
      "Olema Pharmaceuticals (NASDAQ:OLMA) Upgraded by Zacks Investment Research to Hold\n",
      "StockNews.com Upgrades World Acceptance (NASDAQ:WRLD) to “Buy”\n",
      "Oncorus (NASDAQ:ONCR) Upgraded to “Hold” by Zacks Investment Research\n",
      "Sify Technologies (SIFY) Set to Announce Quarterly Earnings on Monday\n",
      "Daniel Richard Mazziota Acquires 5000 Shares of AmpliTech Group, Inc. (OTCMKTS:AMPG) Stock\n",
      "OneSpaWorld Holdings Limited (NASDAQ:OSW) Director Andrew R. Heyer Sells 14127 Shares\n",
      "Blade Air Mobility, Inc. (NASDAQ:BLDE) Expected to Announce Quarterly Sales of $19.02 Million\n",
      "Rezolute, Inc. (NASDAQ:RZLT) Receives Average Recommendation of “Buy” from Analysts\n",
      "Team news: Damien Cahalane gets the nod at full back for Cork, Tim O'Mahony at wing back\n",
      "Kishida's 'new capitalism' harnesses nostalgia for traditional business methods\n",
      "Bongino: Twitter’s ‘poison pill’ is the Left’s ‘hill to die on’\n",
      "Elon Musk Pulls Master Class in Trolling With Twitter Takeover Bid\n",
      "With 74% institutional ownership, Paycom Software, Inc. (NYSE:PAYC) is a favorite amongst the big guns\n",
      "Trip Through Time: The Dundalk Storm of April 1858\n",
      "$0.36 EPS Expected for Great Ajax Corp. (NYSE:AJX) This Quarter\n",
      "Short Interest in Sera Prognostics, Inc. (NASDAQ:SERA) Grows By 62.7%\n",
      "European Union undermining its trade with south-east Asia: Report\n",
      "Erling Haaland injury concerns over Real Madrid or Manchester City summer transfer - Paper Round\n",
      "The Goldman Sachs Group, Inc. (NYSE:GS) Expected to Announce Earnings of $8.72 Per Share\n",
      "Zebra Technologies Co. (NASDAQ:ZBRA) Given Consensus Recommendation of \"Buy\" by Brokerages\n",
      "Analysts Set Altra Industrial Motion Corp. (NASDAQ:AIMC) Price Target at $58.81\n",
      "Longeveron Inc. (NASDAQ:LGVN) Sees Large Decrease in Short Interest\n",
      "Brokerages Set Voya Financial, Inc. (NYSE:VOYA) Price Target at $77.09\n",
      "Short Interest in Lloyds Banking Group plc (NYSE:LYG) Declines By 65.2%\n",
      "Brisbane 2032 President vows to ensure Games do not become public burden\n",
      "PPG Industries, Inc.'s (NYSE:PPG) recent 3.2% pullback adds to one-year year losses, institutional owners may take drastic measures\n",
      "Bottomline: A private valuation reset is set to hurt equities\n",
      "The Goldman Sachs Group, Inc. (NYSE:GS) Receives Consensus Rating of “Hold” from Analysts\n",
      "Gladstone Investment Co. to Issue Monthly Dividend of $0.08 (NASDAQ:GAIN)\n",
      "Vertical Research Downgrades Corteva (NYSE:CTVA) to Hold\n",
      "Honeywell International Inc. (NASDAQ:HON) Expected to Post Quarterly Sales of $8.36 Billion\n",
      "Jones Lang LaSalle Incorporated (NYSE:JLL) Expected to Announce Quarterly Sales of $4.43 Billion\n",
      "Analysts Expect Biogen Inc. (NASDAQ:BIIB) Will Post Quarterly Sales of $2.51 Billion\n",
      "Centre reaches out to global sovereign, pension funds for mega LIC IPO\n",
      "$0.03 EPS Expected for Harsco Co. (NYSE:HSC) This Quarter\n",
      "$2.06 Billion in Sales Expected for Bausch Health Companies Inc. (NYSE:BHC) This Quarter\n",
      "Midland States Bancorp, Inc. (NASDAQ:MSBI) Short Interest Update\n"
     ]
    }
   ],
   "source": [
    "titles = soup.find_all(\"a\", class_=\"DY5T1d RZIKme\")\n",
    "\n",
    "for link in titles:\n",
    "    print(link.getText())"
   ]
  },
  {
   "cell_type": "code",
   "execution_count": null,
   "metadata": {},
   "outputs": [],
   "source": []
  }
 ],
 "metadata": {
  "kernelspec": {
   "display_name": "Python 3",
   "language": "python",
   "name": "python3"
  },
  "language_info": {
   "codemirror_mode": {
    "name": "ipython",
    "version": 3
   },
   "file_extension": ".py",
   "mimetype": "text/x-python",
   "name": "python",
   "nbconvert_exporter": "python",
   "pygments_lexer": "ipython3",
   "version": "3.7.9"
  }
 },
 "nbformat": 4,
 "nbformat_minor": 5
}
