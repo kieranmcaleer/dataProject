{
 "cells": [
  {
   "cell_type": "code",
   "execution_count": 40,
   "id": "stable-following",
   "metadata": {},
   "outputs": [],
   "source": [
    "    \n",
    "    #getting all of the other stocks\n",
    "    import requests\n",
    "    import pandas as pd\n",
    "    from bs4 import BeautifulSoup\n",
    "    import urllib3"
   ]
  },
  {
   "cell_type": "code",
   "execution_count": 41,
   "id": "correct-yugoslavia",
   "metadata": {},
   "outputs": [
    {
     "name": "stdout",
     "output_type": "stream",
     "text": [
      "https://datahub.io/core/nyse-other-listings/r/nyse-listed.csv\n"
     ]
    }
   ],
   "source": [
    "    \n",
    "    #getting all of the nyse stocks\n",
    "    import requests\n",
    "    print(\"https://datahub.io/core/nyse-other-listings/r/nyse-listed.csv\")\n",
    "    req = requests.get(\"https://datahub.io/core/nyse-other-listings/r/nyse-listed.csv\")\n",
    "    url_content = req.content\n",
    "    csv_file = open('nyse.csv', 'wb')\n",
    "    csv_file.write(url_content)\n",
    "    csv_file.close()"
   ]
  },
  {
   "cell_type": "code",
   "execution_count": 42,
   "id": "cheap-welding",
   "metadata": {},
   "outputs": [
    {
     "name": "stdout",
     "output_type": "stream",
     "text": [
      "  ACT Symbol                                       Company Name\n",
      "0          A            Agilent Technologies, Inc. Common Stock\n",
      "1         AA                            Alcoa Inc. Common Stock\n",
      "2       AA$B  Alcoa Inc. Depository Shares Representing 1/10...\n",
      "3        AAC                    AAC Holdings, Inc. Common Stock\n",
      "4        AAN                         Aaron's, Inc. Common Stock\n"
     ]
    }
   ],
   "source": [
    "# creating a data frame\n",
    "nyse_df = pd.read_csv(\"nyse.csv\")\n",
    "print(nyse_df.head())"
   ]
  },
  {
   "cell_type": "code",
   "execution_count": 43,
   "id": "better-shirt",
   "metadata": {},
   "outputs": [
    {
     "name": "stdout",
     "output_type": "stream",
     "text": [
      "What stock would you like to search?beer hug\n"
     ]
    }
   ],
   "source": [
    "def getHTMLdocument(url):\n",
    "      \n",
    "    # request for HTML document of given url\n",
    "    response = requests.get(url)\n",
    "      \n",
    "    # response will be provided in JSON format\n",
    "    return response.text\n",
    "userSearch = input(\"What stock would you like to search?\")"
   ]
  },
  {
   "cell_type": "code",
   "execution_count": 44,
   "id": "demanding-worse",
   "metadata": {},
   "outputs": [],
   "source": [
    "\n",
    "\n",
    "URL = \"https://news.google.com/search?q=\" + userSearch +  \" when%3A1d&hl\"\n",
    "html_document = getHTMLdocument(URL)\n",
    "soup = BeautifulSoup(html_document, 'html.parser')"
   ]
  },
  {
   "cell_type": "code",
   "execution_count": 45,
   "id": "serious-shell",
   "metadata": {},
   "outputs": [
    {
     "name": "stdout",
     "output_type": "stream",
     "text": [
      "'Ozark' Season 1, Episode 9 Recap: Coffee, Black\n",
      "‘Hope Opener’: Mariners start home season with huge lines, roars, Ichiro’s gas--and a rout\n",
      "Would Luke Bryan Be a Bartender If He Was Never Discovered?\n",
      "Interview: Jared Padalecki Talks What's Next on 'Walker', Working with Jensen Ackles Again, and More [EXCLUSIVE]\n"
     ]
    }
   ],
   "source": [
    "titles = soup.find_all(\"a\", class_=\"DY5T1d RZIKme\")\n",
    "\n",
    "for link in titles:\n",
    "    print(link.getText())"
   ]
  },
  {
   "cell_type": "code",
   "execution_count": null,
   "id": "possible-funeral",
   "metadata": {},
   "outputs": [],
   "source": []
  }
 ],
 "metadata": {
  "kernelspec": {
   "display_name": "Python 3",
   "language": "python",
   "name": "python3"
  },
  "language_info": {
   "codemirror_mode": {
    "name": "ipython",
    "version": 3
   },
   "file_extension": ".py",
   "mimetype": "text/x-python",
   "name": "python",
   "nbconvert_exporter": "python",
   "pygments_lexer": "ipython3",
   "version": "3.6.13"
  }
 },
 "nbformat": 4,
 "nbformat_minor": 5
}
